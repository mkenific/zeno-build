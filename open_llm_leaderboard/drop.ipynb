{
 "cells": [
  {
   "cell_type": "markdown",
   "metadata": {},
   "source": [
    "# DROP Task\n",
    "\n",
    "English reading comprehension benchmark requiring Discrete Reasoning Over the content of Paragraphs.\n"
   ]
  },
  {
   "cell_type": "code",
   "execution_count": null,
   "metadata": {},
   "outputs": [],
   "source": [
    "from zeno_client import ZenoClient, ZenoMetric\n",
    "import datasets\n",
    "import json\n",
    "import os\n",
    "import dotenv\n",
    "\n",
    "dotenv.load_dotenv(override=True)"
   ]
  },
  {
   "cell_type": "code",
   "execution_count": null,
   "metadata": {},
   "outputs": [],
   "source": [
    "API_KEY = os.environ[\"ZENO_API_KEY\"]\n",
    "client = ZenoClient(API_KEY)"
   ]
  },
  {
   "cell_type": "code",
   "execution_count": null,
   "metadata": {},
   "outputs": [],
   "source": [
    "models = [\"01-ai__Yi-34B_public\"]"
   ]
  },
  {
   "cell_type": "code",
   "execution_count": null,
   "metadata": {},
   "outputs": [],
   "source": [
    "base_df = datasets.load_dataset(\"drop\")[\"validation\"].to_pandas()"
   ]
  },
  {
   "cell_type": "code",
   "execution_count": null,
   "metadata": {},
   "outputs": [],
   "source": [
    "base_df = base_df.drop_duplicates(subset=['query_id'])\n",
    "base_df['input'] = base_df.apply(lambda x: f\"**Passage**: {x['passage']} \\n\\n**Question:** {x['question']}\", axis=1)\n",
    "base_df['answers'] = base_df.apply(lambda x: \", \".join(x['answers_spans']['spans']), axis=1)\n",
    "base_df['answer type'] = base_df[\"answers_spans\"].apply(lambda x: x['types'][0])\n",
    "base_df['passage length'] = base_df['passage'].str.len()\n",
    "base_df['question length'] = base_df['question'].str.len()"
   ]
  },
  {
   "cell_type": "code",
   "execution_count": null,
   "metadata": {},
   "outputs": [],
   "source": [
    "proj = client.create_project(\n",
    "    name=\"DROP OpenLLM Leaderboard\", \n",
    "    view={\n",
    "        \"data\": {\n",
    "            \"type\": \"markdown\"\n",
    "        },\n",
    "        \"label\": {\n",
    "            \"type\": \"text\"\n",
    "        },\n",
    "        \"output\": {\n",
    "            \"type\": \"text\"\n",
    "        } \n",
    "    }, \n",
    "    description=\"DROP task in the Open-LLM-Leaderboard (https://arxiv.org/pdf/1903.00161.pdf).\",\n",
    "    metrics=[\n",
    "        ZenoMetric(name=\"em\", type=\"mean\", columns=[\"em\"]),\n",
    "        ZenoMetric(name=\"f1\", type=\"mean\", columns=[\"f1\"])\n",
    "    ]\n",
    ")"
   ]
  },
  {
   "cell_type": "code",
   "execution_count": null,
   "metadata": {},
   "outputs": [],
   "source": [
    "proj.upload_dataset(base_df[[\"query_id\", \"input\", \"answers\", \"passage length\", \"question length\", \"answer type\"]], id_column=\"query_id\", data_column=\"input\", label_column=\"answers\")"
   ]
  },
  {
   "cell_type": "code",
   "execution_count": null,
   "metadata": {},
   "outputs": [],
   "source": [
    "for m in models:\n",
    "    output_df = datasets.load_dataset(\"open-llm-leaderboard/details_\" + m, \"harness_drop_3\")[\"latest\"].to_pandas()\n",
    "    merged_df = output_df.merge(base_df, left_on=\"example\", right_on=\"query_id\").drop_duplicates(subset=['query_id'])\n",
    "    merged_df['output'] = merged_df['predictions'].apply(lambda x: x[0] if len(x) > 0 else '')\n",
    "    merged_df[\"f1\"] = merged_df['metrics'].apply(lambda x: x['f1'])\n",
    "    merged_df[\"em\"] = merged_df['metrics'].apply(lambda x: x['em'])\n",
    "    proj.upload_system(merged_df[[\"query_id\", \"output\", \"f1\", \"em\"]], name=m, id_column=\"query_id\", output_column=\"output\")"
   ]
  }
 ],
 "metadata": {
  "kernelspec": {
   "display_name": "compare",
   "language": "python",
   "name": "python3"
  },
  "language_info": {
   "codemirror_mode": {
    "name": "ipython",
    "version": 3
   },
   "file_extension": ".py",
   "mimetype": "text/x-python",
   "name": "python",
   "nbconvert_exporter": "python",
   "pygments_lexer": "ipython3",
   "version": "3.9.16"
  }
 },
 "nbformat": 4,
 "nbformat_minor": 2
}
