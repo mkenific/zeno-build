{
 "cells": [
  {
   "cell_type": "markdown",
   "metadata": {},
   "source": [
    "# GSM8k Task \n",
    "\n",
    "Diverse grade school math word problems to measure a model's ability to solve multi-step mathematical reasoning problems."
   ]
  },
  {
   "cell_type": "code",
   "execution_count": null,
   "metadata": {},
   "outputs": [],
   "source": [
    "from zeno_client import ZenoClient, ZenoMetric\n",
    "import datasets\n",
    "import os\n",
    "import dotenv\n",
    "\n",
    "dotenv.load_dotenv(override=True)"
   ]
  },
  {
   "cell_type": "code",
   "execution_count": null,
   "metadata": {},
   "outputs": [],
   "source": [
    "API_KEY = os.environ[\"ZENO_API_KEY\"]\n",
    "client = ZenoClient(API_KEY)"
   ]
  },
  {
   "cell_type": "code",
   "execution_count": null,
   "metadata": {},
   "outputs": [],
   "source": [
    "models = [\"teknium__OpenHermes-2.5-Mistral-7B\", \"Weyaxi__OpenHermes-2.5-neural-chat-7b-v3-1-7B\"]"
   ]
  },
  {
   "cell_type": "code",
   "execution_count": null,
   "metadata": {},
   "outputs": [],
   "source": [
    "initial_df = datasets.load_dataset(\"gsm8k\", \"main\")[\"test\"].to_pandas()"
   ]
  },
  {
   "cell_type": "code",
   "execution_count": null,
   "metadata": {},
   "outputs": [],
   "source": [
    "initial_df[\"id\"] = initial_df.index"
   ]
  },
  {
   "cell_type": "code",
   "execution_count": null,
   "metadata": {},
   "outputs": [],
   "source": [
    "proj = client.create_project(\n",
    "    name=\"GSM8K OpenLLM\", \n",
    "    view=\"text-classification\", \n",
    "    description=\"Open LLM GSM8K dataset\",\n",
    "    metrics=[\n",
    "        ZenoMetric(name=\"acc\", type=\"mean\", columns=[\"acc\"]),\n",
    "        ZenoMetric(name=\"avg. output length\", type=\"mean\", columns=[\"output length\"])\n",
    "    ]\n",
    ")"
   ]
  },
  {
   "cell_type": "code",
   "execution_count": null,
   "metadata": {},
   "outputs": [],
   "source": [
    "proj.upload_dataset(initial_df, id_column=\"id\", data_column=\"question\", label_column=\"answer\")"
   ]
  },
  {
   "cell_type": "code",
   "execution_count": null,
   "metadata": {},
   "outputs": [],
   "source": [
    "for m in models:\n",
    "    output_df = datasets.load_dataset(\"open-llm-leaderboard/details_\" + m, \"harness_gsm8k_5\")[\"latest\"].to_pandas()\n",
    "    merged_df = output_df.merge(initial_df, left_on=\"example\", right_on=\"question\")\n",
    "    merged_df[\"output\"] = merged_df['predictions'].apply(lambda x: x[0])\n",
    "    merged_df[\"output length\"] = merged_df['output'].apply(lambda x: len(x))\n",
    "    merged_df[\"acc\"] = merged_df['metrics'].apply(lambda x: x[\"acc\"])\n",
    "    proj.upload_system(merged_df[[\"id\", \"output\", \"output length\", \"acc\"]], name=m, id_column=\"id\", output_column=\"output\")"
   ]
  }
 ],
 "metadata": {
  "kernelspec": {
   "display_name": "compare",
   "language": "python",
   "name": "python3"
  },
  "language_info": {
   "codemirror_mode": {
    "name": "ipython",
    "version": 3
   },
   "file_extension": ".py",
   "mimetype": "text/x-python",
   "name": "python",
   "nbconvert_exporter": "python",
   "pygments_lexer": "ipython3",
   "version": "3.9.16"
  }
 },
 "nbformat": 4,
 "nbformat_minor": 2
}
