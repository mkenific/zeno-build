{
 "cells": [
  {
   "cell_type": "markdown",
   "metadata": {},
   "source": [
    "# WINGRANDE Task\n",
    "\n",
    "An adversarial and difficult Winograd benchmark at scale, for commonsense reasoning."
   ]
  },
  {
   "cell_type": "code",
   "execution_count": null,
   "metadata": {},
   "outputs": [],
   "source": [
    "from zeno_client import ZenoClient, ZenoMetric\n",
    "import datasets\n",
    "import json\n",
    "import os\n",
    "import dotenv\n",
    "\n",
    "dotenv.load_dotenv(override=True)"
   ]
  },
  {
   "cell_type": "code",
   "execution_count": null,
   "metadata": {},
   "outputs": [],
   "source": [
    "API_KEY = os.environ[\"ZENO_API_KEY\"]\n",
    "client = ZenoClient(API_KEY)"
   ]
  },
  {
   "cell_type": "code",
   "execution_count": null,
   "metadata": {},
   "outputs": [],
   "source": [
    "models = [\"01-ai__Yi-34B_public\"]"
   ]
  },
  {
   "cell_type": "code",
   "execution_count": null,
   "metadata": {},
   "outputs": [],
   "source": [
    "base_df = datasets.load_dataset(\"winogrande\", \"winogrande_m\")[\"validation\"].to_pandas()"
   ]
  },
  {
   "cell_type": "code",
   "execution_count": null,
   "metadata": {},
   "outputs": [],
   "source": [
    "proj = client.create_project(\n",
    "    name=\"WinoGrande OpenLLM Leaderboard\", \n",
    "    view=\"text-classification\", \n",
    "    description=\"WinoGrande task in the Open-LLM-Leaderboard (https://arxiv.org/abs/1907.10641).\",\n",
    "    metrics=[\n",
    "        ZenoMetric(name=\"acc\", type=\"mean\", columns=[\"acc\"])\n",
    "    ]\n",
    ")"
   ]
  },
  {
   "cell_type": "code",
   "execution_count": null,
   "metadata": {},
   "outputs": [],
   "source": [
    "base_df['id'] = base_df.index\n",
    "base_df[\"input length\"] = base_df[\"sentence\"].str.len()\n",
    "base_df[\"prompt\"] = base_df.apply(lambda x: f\"{x['sentence']}\\n\\n{x['option1']}\\n{x['option2']}\", axis=1)\n",
    "base_df[\"label\"] = base_df.apply(lambda x: x[\"option1\"] if int(x[\"answer\"]) == 1 else x[\"option2\"], axis=1)"
   ]
  },
  {
   "cell_type": "code",
   "execution_count": null,
   "metadata": {},
   "outputs": [],
   "source": [
    "proj.upload_dataset(base_df[['id', \"prompt\", \"label\", \"input length\"]], id_column=\"id\", data_column=\"prompt\", label_column=\"label\")"
   ]
  },
  {
   "cell_type": "code",
   "execution_count": null,
   "metadata": {},
   "outputs": [],
   "source": [
    "for m in models:\n",
    "    output_df = datasets.load_dataset(\"open-llm-leaderboard/details_\" + m, \"harness_winogrande_5\")[\"latest\"].to_pandas()\n",
    "    merged_df = output_df.merge(base_df, left_on=\"example\", right_on=\"sentence\")\n",
    "    merged_df[\"output\"] = merged_df.apply(lambda x: f\"{x['option1'] if x['predictions'][0] > x['predictions'][1] else x['option2']} {x['predictions']}\", axis=1)\n",
    "    merged_df[\"acc\"] = merged_df['metrics'].apply(lambda x: x[\"acc\"])\n",
    "    proj.upload_system(merged_df[[\"id\", \"output\", \"acc\"]], name=m, id_column=\"id\", output_column=\"output\")"
   ]
  }
 ],
 "metadata": {
  "kernelspec": {
   "display_name": "compare",
   "language": "python",
   "name": "python3"
  },
  "language_info": {
   "codemirror_mode": {
    "name": "ipython",
    "version": 3
   },
   "file_extension": ".py",
   "mimetype": "text/x-python",
   "name": "python",
   "nbconvert_exporter": "python",
   "pygments_lexer": "ipython3",
   "version": "3.9.16"
  }
 },
 "nbformat": 4,
 "nbformat_minor": 2
}
