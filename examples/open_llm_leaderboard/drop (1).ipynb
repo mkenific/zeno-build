{
 "cells": [
  {
   "cell_type": "markdown",
   "metadata": {},
   "source": [
    "# DROP Task\n",
    "\n",
    "English reading comprehension benchmark requiring Discrete Reasoning Over the content of Paragraphs.\n"
   ]
  },
  {
   "cell_type": "code",
   "execution_count": null,
   "metadata": {},
   "outputs": [],
   "source": [
    "from zeno_client import ZenoClient, ZenoMetric\n",
    "import datasets\n",
    "import os\n",
    "import dotenv\n",
    "\n",
    "dotenv.load_dotenv(override=True)"
   ]
  },
  {
   "cell_type": "code",
   "execution_count": null,
   "metadata": {},
   "outputs": [],
   "source": [
    "client = ZenoClient(os.environ[\"ZENO_API_KEY\"])"
   ]
  },
  {
   "cell_type": "markdown",
   "metadata": {},
   "source": [
    "Select which models you want to analyze. These paths should represent the name of the repositories when clicking on the 📄 icon next to models on the leaderboard *without* the `details_` start: https://huggingface.co/spaces/HuggingFaceH4/open_llm_leaderboard"
   ]
  },
  {
   "cell_type": "code",
   "execution_count": null,
   "metadata": {},
   "outputs": [],
   "source": [
    "# falcon-180B, llama2-70B, mistral-7B (are underperforming)\n",
    "# Yi-34B, tigerbot-70B, possibly internlm-20B (have a good perf)\n",
    "# facebook/xglm-7.5B falls in the middle\n",
    "models = [\"01-ai__Yi-34B_public\", \"TigerResearch__tigerbot-70b-chat\", \"tiiuae__falcon-180B\", \"mistralai__Mistral-7B-v0.1\", \"facebook__xglm-7.5B\"]"
   ]
  },
  {
   "cell_type": "markdown",
   "metadata": {},
   "source": [
    "We load the base DROP dataset to get the gold-truth answers. We also do some processing on the inputs."
   ]
  },
  {
   "cell_type": "code",
   "execution_count": null,
   "metadata": {},
   "outputs": [],
   "source": [
    "base_df = datasets.load_dataset(\"drop\")[\"validation\"].to_pandas()"
   ]
  },
  {
   "cell_type": "code",
   "execution_count": null,
   "metadata": {},
   "outputs": [],
   "source": [
    "base_df = base_df.drop_duplicates(subset=['query_id'])\n",
    "base_df['input'] = base_df.apply(lambda x: f\"**Passage**: {x['passage']} \\n\\n**Question:** {x['question']}\", axis=1)\n",
    "base_df['answers'] = base_df.apply(lambda x: \", \".join(x['answers_spans']['spans']), axis=1)\n",
    "base_df['answer type'] = base_df[\"answers_spans\"].apply(lambda x: x['types'][0])\n",
    "base_df['passage length'] = base_df['passage'].str.len()\n",
    "base_df['question length'] = base_df['question'].str.len()"
   ]
  },
  {
   "cell_type": "code",
   "execution_count": null,
   "metadata": {},
   "outputs": [],
   "source": [
    "proj = client.create_project(\n",
    "    name=\"OpenLLM Leaderboard DROP Comparison\", \n",
    "    view={\n",
    "        \"data\": {\n",
    "            \"type\": \"markdown\"\n",
    "        },\n",
    "        \"label\": {\n",
    "            \"type\": \"text\"\n",
    "        },\n",
    "        \"output\": {\n",
    "            \"type\": \"text\"\n",
    "        } \n",
    "    }, \n",
    "    description=\"Exploring performance differences on DROP for models in OpenLLM Leaderboard.\",\n",
    "    metrics=[\n",
    "        ZenoMetric(name=\"f1\", type=\"mean\", columns=[\"f1\"]),\n",
    "        ZenoMetric(name=\"em\", type=\"mean\", columns=[\"em\"]),\n",
    "        ZenoMetric(name=\"avg output length\", type=\"mean\", columns=[\"output length\"])\n",
    "    ]\n",
    ")"
   ]
  },
  {
   "cell_type": "code",
   "execution_count": null,
   "metadata": {},
   "outputs": [],
   "source": [
    "proj.upload_dataset(base_df[[\"query_id\", \"input\", \"answers\", \"passage length\", \"question length\", \"answer type\"]], id_column=\"query_id\", data_column=\"input\", label_column=\"answers\")"
   ]
  },
  {
   "cell_type": "code",
   "execution_count": null,
   "metadata": {},
   "outputs": [],
   "source": [
    "for m in models:\n",
    "    print(\"uploading \", m)\n",
    "    output_df = datasets.load_dataset(\"open-llm-leaderboard/details_\" + m, \"harness_drop_3\")[\"latest\"].to_pandas()\n",
    "    merged_df = output_df.merge(base_df, left_on=\"example\", right_on=\"query_id\").drop_duplicates(subset=['query_id'])\n",
    "    merged_df['output'] = merged_df['predictions'].apply(lambda x: x[0] if len(x) > 0 else '')\n",
    "    if \"metrics\" in merged_df.columns:\n",
    "        merged_df[\"f1\"] = merged_df['metrics'].apply(lambda x: x['f1'])\n",
    "        merged_df[\"em\"] = merged_df['metrics'].apply(lambda x: x['em'])\n",
    "    merged_df['output length'] = merged_df['output'].str.len()\n",
    "    proj.upload_system(merged_df[[\"query_id\", \"output\", \"f1\", \"em\", \"output length\"]], name=m, id_column=\"query_id\", output_column=\"output\")"
   ]
  },
  {
   "cell_type": "markdown",
   "metadata": {},
   "source": [
    "Let's load Falcon specifically and modify the output to remove everything after the first newline.\n",
    "\n",
    "We first load the DROP implementation functions from the harness to re-calculate the F1 score."
   ]
  },
  {
   "cell_type": "code",
   "execution_count": null,
   "metadata": {},
   "outputs": [],
   "source": [
    "import re\n",
    "import string\n",
    "\n",
    "import numpy as np\n",
    "from scipy.optimize import linear_sum_assignment\n",
    "\n",
    "_ARTICLES = re.compile(r\"\\b(a|an|the)\\b\", re.UNICODE)\n",
    "def get_metrics(predicted, gold):\n",
    "    \"\"\"\n",
    "    Takes a predicted answer and a gold answer (that are both either a string or a list of\n",
    "    strings), and returns exact match and the DROP F1 metric for the prediction.  If you are\n",
    "    writing a script for evaluating objects in memory (say, the output of predictions during\n",
    "    validation, or while training), this is the function you want to call, after using\n",
    "    :func:`answer_json_to_strings` when reading the gold answer from the released data file.\n",
    "    \"\"\"\n",
    "    predicted_bags = _answer_to_bags(predicted)\n",
    "    gold_bags = _answer_to_bags(gold)\n",
    "\n",
    "    if set(predicted_bags[0]) == set(gold_bags[0]) and len(predicted_bags[0]) == len(\n",
    "        gold_bags[0]\n",
    "    ):\n",
    "        exact_match = 1.0\n",
    "    else:\n",
    "        exact_match = 0.0\n",
    "\n",
    "    f1_per_bag = _align_bags(predicted_bags[1], gold_bags[1])\n",
    "    f1 = np.mean(f1_per_bag)\n",
    "    f1 = round(f1, 2)\n",
    "    return exact_match, f1\n",
    "\n",
    "\n",
    "def _answer_to_bags(answer):\n",
    "    if isinstance(answer, (list, tuple)):\n",
    "        raw_spans = answer\n",
    "    else:\n",
    "        raw_spans = [answer]\n",
    "    normalized_spans = []\n",
    "    token_bags = []\n",
    "    for raw_span in raw_spans:\n",
    "        normalized_span = _normalize(raw_span)\n",
    "        normalized_spans.append(normalized_span)\n",
    "        token_bags.append(set(normalized_span.split()))\n",
    "    return normalized_spans, token_bags\n",
    "\n",
    "\n",
    "def _align_bags(predicted, gold):\n",
    "    \"\"\"\n",
    "    Takes gold and predicted answer sets and first finds the optimal 1-1 alignment\n",
    "    between them and gets maximum metric values over all the answers.\n",
    "    \"\"\"\n",
    "    scores = np.zeros([len(gold), len(predicted)])\n",
    "    for gold_index, gold_item in enumerate(gold):\n",
    "        for pred_index, pred_item in enumerate(predicted):\n",
    "            if _match_numbers_if_present(gold_item, pred_item):\n",
    "                scores[gold_index, pred_index] = _compute_f1(pred_item, gold_item)\n",
    "    row_ind, col_ind = linear_sum_assignment(-scores)\n",
    "\n",
    "    max_scores = np.zeros([max(len(gold), len(predicted))])\n",
    "    for row, column in zip(row_ind, col_ind):\n",
    "        max_scores[row] = max(max_scores[row], scores[row, column])\n",
    "    return max_scores\n",
    "\n",
    "\n",
    "def _compute_f1(predicted_bag, gold_bag):\n",
    "    intersection = len(gold_bag.intersection(predicted_bag))\n",
    "    if not predicted_bag:\n",
    "        precision = 1.0\n",
    "    else:\n",
    "        precision = intersection / float(len(predicted_bag))\n",
    "    if not gold_bag:\n",
    "        recall = 1.0\n",
    "    else:\n",
    "        recall = intersection / float(len(gold_bag))\n",
    "    f1 = (\n",
    "        (2 * precision * recall) / (precision + recall)\n",
    "        if not (precision == 0.0 and recall == 0.0)\n",
    "        else 0.0\n",
    "    )\n",
    "    return f1\n",
    "\n",
    "\n",
    "def _match_numbers_if_present(gold_bag, predicted_bag):\n",
    "    gold_numbers = set()\n",
    "    predicted_numbers = set()\n",
    "    for word in gold_bag:\n",
    "        if _is_number(word):\n",
    "            gold_numbers.add(word)\n",
    "    for word in predicted_bag:\n",
    "        if _is_number(word):\n",
    "            predicted_numbers.add(word)\n",
    "    if (not gold_numbers) or gold_numbers.intersection(predicted_numbers):\n",
    "        return True\n",
    "    return False\n",
    "\n",
    "\n",
    "def _is_number(text):\n",
    "    try:\n",
    "        float(text)\n",
    "        return True\n",
    "    except ValueError:\n",
    "        return False\n",
    "\n",
    "\n",
    "def _remove_articles(text):\n",
    "    return _ARTICLES.sub(\" \", text)\n",
    "\n",
    "\n",
    "def _white_space_fix(text):\n",
    "    return \" \".join(text.split())\n",
    "\n",
    "\n",
    "def _remove_punc(text):\n",
    "    exclude = set(string.punctuation)\n",
    "    if not _is_number(text):\n",
    "        return \"\".join(ch for ch in text if ch not in exclude)\n",
    "    else:\n",
    "        return text\n",
    "\n",
    "\n",
    "def _fix_number(text):\n",
    "    return str(float(text)) if _is_number(text) else text\n",
    "\n",
    "\n",
    "def _tokenize(text):\n",
    "    return re.split(\" |-\", text)\n",
    "\n",
    "\n",
    "def _normalize(answer):\n",
    "    tokens = [\n",
    "        _white_space_fix(_remove_articles(_fix_number(_remove_punc(token.lower()))))\n",
    "        for token in _tokenize(answer)\n",
    "    ]\n",
    "    tokens = [token for token in tokens if token.strip()]\n",
    "    normalized = \" \".join(tokens).strip()\n",
    "    return normalized"
   ]
  },
  {
   "cell_type": "code",
   "execution_count": null,
   "metadata": {},
   "outputs": [],
   "source": [
    "output_df = datasets.load_dataset(\"open-llm-leaderboard/details_\" + models[2], \"harness_drop_3\")[\"latest\"].to_pandas()"
   ]
  },
  {
   "cell_type": "code",
   "execution_count": null,
   "metadata": {},
   "outputs": [],
   "source": [
    "output_df['output'] = output_df['predictions'].apply(lambda x: x[0].split(\"\\n\")[0] if len(x) > 0 else '')"
   ]
  },
  {
   "cell_type": "code",
   "execution_count": null,
   "metadata": {},
   "outputs": [],
   "source": [
    "# iterrows over output_df and set f1 to the result of get_metrics\n",
    "for index, row in output_df.iterrows():\n",
    "    m = get_metrics([row['output']], [x[0] for x in row['answers']])\n",
    "    output_df.loc[index, 'em'] = m[0]\n",
    "    output_df.loc[index, 'f1'] = m[1]"
   ]
  },
  {
   "cell_type": "code",
   "execution_count": null,
   "metadata": {},
   "outputs": [],
   "source": [
    "merged_df = output_df.merge(base_df, left_on=\"example\", right_on=\"query_id\").drop_duplicates(subset=['query_id'])\n",
    "merged_df['output length'] = merged_df['output'].str.len()\n",
    "proj.upload_system(merged_df[[\"query_id\", \"output\", \"f1\", \"em\", \"output length\"]], name=\"Falcon normalized\", id_column=\"query_id\", output_column=\"output\")"
   ]
  }
 ],
 "metadata": {
  "kernelspec": {
   "display_name": "compare",
   "language": "python",
   "name": "python3"
  },
  "language_info": {
   "codemirror_mode": {
    "name": "ipython",
    "version": 3
   },
   "file_extension": ".py",
   "mimetype": "text/x-python",
   "name": "python",
   "nbconvert_exporter": "python",
   "pygments_lexer": "ipython3",
   "version": "3.9.16"
  }
 },
 "nbformat": 4,
 "nbformat_minor": 2
}
