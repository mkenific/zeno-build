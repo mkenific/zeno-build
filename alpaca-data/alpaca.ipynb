{
 "cells": [
  {
   "cell_type": "code",
   "execution_count": null,
   "metadata": {},
   "outputs": [],
   "source": [
    "from zeno_client import ZenoClient\n",
    "import pandas as pd\n",
    "import os\n",
    "import dotenv\n",
    "\n",
    "dotenv.load_dotenv(override=True)"
   ]
  },
  {
   "cell_type": "code",
   "execution_count": null,
   "metadata": {},
   "outputs": [],
   "source": [
    "client = ZenoClient(os.environ[\"ZENO_API_KEY\"])"
   ]
  },
  {
   "cell_type": "code",
   "execution_count": null,
   "metadata": {},
   "outputs": [],
   "source": [
    "df = pd.read_json(\"https://github.com/tatsu-lab/stanford_alpaca/raw/main/alpaca_data.json\")"
   ]
  },
  {
   "cell_type": "code",
   "execution_count": null,
   "metadata": {},
   "outputs": [],
   "source": [
    "df[\"id\"] = df.index\n",
    "df[\"data\"] = df.apply(lambda x: {\"instruction\": x['instruction'], \"input\": x['input']}, axis=1)\n",
    "df[\"type\"] = df[\"instruction\"].str.split(\" \").str[0]\n",
    "df[\"has input\"] = df[\"input\"] != \"\"\n",
    "df[\"instruction length\"] = df[\"instruction\"].str.len()\n",
    "df[\"input length\"] = df[\"input\"].str.len()\n",
    "df[\"ouput length\"] = df[\"output\"].str.len()"
   ]
  },
  {
   "cell_type": "code",
   "execution_count": null,
   "metadata": {},
   "outputs": [],
   "source": [
    "df[\"type\"].value_counts()\n",
    "top_20_types = df[\"type\"].value_counts().nlargest(20).index\n",
    "df.loc[~df[\"type\"].isin(top_20_types), \"type\"] = \"other\""
   ]
  },
  {
   "cell_type": "code",
   "execution_count": null,
   "metadata": {},
   "outputs": [],
   "source": [
    "proj = client.create_project(\n",
    "    name=\"Alpaca Dataset\",\n",
    "    public=True,\n",
    "    view={\n",
    "        \"data\": {\n",
    "            \"type\": \"vstack\",\n",
    "            \"keys\": {\n",
    "                \"instruction\": {\"label\": \"instruction:\", \"type\": \"text\"},\n",
    "                \"input\": {\"label\": \"input:\", \"type\": \"text\"},\n",
    "            },\n",
    "        },\n",
    "        \"label\": {\"type\": \"text\"},\n",
    "        \"output\": {\"type\": \"text\"},\n",
    "    },\n",
    "    description=\"Explore the data that makes up the Alpaca instruction-tuned dataset.\",\n",
    ")"
   ]
  },
  {
   "cell_type": "code",
   "execution_count": null,
   "metadata": {},
   "outputs": [],
   "source": [
    "proj.upload_dataset(df, id_column=\"id\", data_column=\"data\", label_column=\"output\")"
   ]
  },
  {
   "cell_type": "code",
   "execution_count": null,
   "metadata": {},
   "outputs": [],
   "source": []
  }
 ],
 "metadata": {
  "kernelspec": {
   "display_name": "zeno-build",
   "language": "python",
   "name": "python3"
  },
  "language_info": {
   "codemirror_mode": {
    "name": "ipython",
    "version": 3
   },
   "file_extension": ".py",
   "mimetype": "text/x-python",
   "name": "python",
   "nbconvert_exporter": "python",
   "pygments_lexer": "ipython3",
   "version": "3.10.13"
  }
 },
 "nbformat": 4,
 "nbformat_minor": 2
}
